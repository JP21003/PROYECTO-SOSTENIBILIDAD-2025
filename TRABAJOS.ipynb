{
 "cells": [
  {
   "cell_type": "code",
   "execution_count": null,
   "id": "3dda98d5",
   "metadata": {},
   "outputs": [],
   "source": []
  },
  {
   "cell_type": "markdown",
   "id": "6bb7da29",
   "metadata": {},
   "source": [
    "# Data science projects in Python\n",
    "En este cuaderno se desarrollará el proyecto de ciencia de datos en el cual se desarrollará la herramienta de predicción que ayudará a preveer la sostenibilidad  del proyecto de techos verdes en instalaciones educativas.\n",
    "\n",
    "## Datasets\n",
    "Los dataset conseguidos de diferentes investigaciones, los cuales son:\n",
    "1) Bases de datos de riego.\n",
    "2) Inventario Techos Verdes y Jardines Verticales.\n",
    "3) Guía práctica de techos verdes y jardines verticales.\n",
    "4) Guía Tecnica Infraestructura Vegetada Actualización 2023.\n",
    "## Posibles algoritmos\n",
    "1) __Regresión Lineal y sus Variantes:__ Predecir medidas continuas como el ahorro energético, la reducción de emisiones o la capacidad de retención de agua. Implementación en Python: Utiliza la biblioteca scikit-learn para construir modelos de regresión lineal, Ridge o Lasso, los cuales pueden ayudarte a estimar cómo varían tus indicadores de sostenibilidad en función de parámetros como el espesor del sustrato, tipo de vegetación, o exposición solar.\n",
    "2) __Random Forest:__ Modelar relaciones no lineales y evaluar la importancia de distintas variables en el desempeño sostenible (por ejemplo, comparando el efecto de diferentes tipos de sustrato o especies vegetales). Implementación en Python: Con scikit-learn puedes utilizar árboles de decisión o Random Forest; para Gradient Boosting, librerías como XGBoost o LightGBM son opciones robustas.\n",
    "3) __Máquinas de soporte Vectorial (SVM):__ Realizar tareas de clasificación o regresión, por ejemplo, para segmentar los proyectos según su rendimiento o para predecir categorías de desempeño basadas en combinaciones de atributos técnicos.\n",
    "4) __Redes Neuronales:__ Capturar relaciones complejas y no lineales entre múltiples variables, especialmente útiles cuando se cuenta con grandes volúmenes de datos ambientales y de monitorización en tiempo real.\n",
    "5) __Clustering y Análisis de Componentes Principales (PCA):__ Reducir la dimensionalidad de los datos y descubrir patrones ocultos que agrupen techos verdes con características o comportamiento similares. Implementación en Python: Con scikit-learn se puede implementar el algoritmo K-means para clustering y PCA para la reducción de variables, ayudando a identificar críticos para la sostebilidad\n",
    "\n",
    "## Librerias necesarias\n",
    "* _Pandas:_ proporciona estructuras de datos y funciones que facilitan la limpieza, maipulación y análisis de datos. \n",
    "* _numpy:_ ofrece estructuras de datos para el cómputo numérico eficiente, en especial arrays multidimensionales, y funciones matematicas avanzadas.\n",
    "* _matplotlib:_ visualización que permite ver tendencias, distribuciones y resultados de los modelos \n",
    "* _tensorflow:_ plataforma de machine learning y deep learning que facilita la construcción y entrenamiento de modelos complejos.\n",
    "* _Random forest(algoritmo):_ Algoritmo de aprendizaje automatico basado en el concepto de ensamble de multiples arboles de decisión.\n",
    "* _scikit-learn:_ proporciona una amplia colección de algoritmos  de aprendizaje automatico.\n"
   ]
  },
  {
   "cell_type": "code",
   "execution_count": 11,
   "id": "96ca1239",
   "metadata": {
    "vscode": {
     "languageId": "sql"
    }
   },
   "outputs": [
    {
     "ename": "SyntaxError",
     "evalue": "invalid syntax (4127666647.py, line 1)",
     "output_type": "error",
     "traceback": [
      "  \u001b[36mCell\u001b[39m\u001b[36m \u001b[39m\u001b[32mIn[11]\u001b[39m\u001b[32m, line 1\u001b[39m\n\u001b[31m    \u001b[39m\u001b[31mCREATE TABLE secciones (\u001b[39m\n           ^\n\u001b[31mSyntaxError\u001b[39m\u001b[31m:\u001b[39m invalid syntax\n"
     ]
    }
   ],
   "source": [
    "CREATE TABLE secciones (\n",
    "    id INT PRIMARY KEY,\n",
    "    titulo VARCHAR(255),\n",
    "    descripcion TEXT\n",
    ");\n",
    "\n",
    "INSERT INTO secciones (id, titulo, descripcion) VALUES\n",
    "(1, 'Introducción', 'Presenta el contexto y justificación de los techos verdes y jardines verticales.'),\n",
    "(2, 'Techos verdes', 'Describe los tipos, componentes y recomendaciones para techos verdes.'),\n",
    "(3, 'Jardines verticales', 'Incluye definiciones, sistemas y cuidados de jardines verticales.'),\n",
    "(4, 'Consideraciones técnicas', 'Requisitos estructurales, hidráulicos, y vegetales para implementación.');\n",
    "\n",
    "-- Tabla: terminos\n",
    "CREATE TABLE terminos (\n",
    "    id INT PRIMARY KEY,\n",
    "    termino VARCHAR(100),\n",
    "    definicion TEXT\n",
    ");\n",
    "\n",
    "INSERT INTO terminos (id, termino, definicion) VALUES\n",
    "(1, 'Techo Verde', 'Sistema instalado sobre la cubierta de un edificio que incluye vegetación.'),\n",
    "(2, 'Jardín Vertical', 'Sistema que permite cultivar plantas verticalmente en muros o fachadas.'),\n",
    "(3, 'Sustrato', 'Medio de crecimiento para las plantas que reemplaza al suelo.');\n",
    "\n",
    "-- Tabla: sistemas_verdes\n",
    "CREATE TABLE sistemas_verdes (\n",
    "    id INT PRIMARY KEY,\n",
    "    tipo VARCHAR(100),\n",
    "    descripcion TEXT,\n",
    "    categoria VARCHAR(50)\n",
    ");\n",
    "\n",
    "INSERT INTO sistemas_verdes (id, tipo, descripcion, categoria) VALUES\n",
    "(1, 'Extensivo', 'Techo verde de bajo peso y mantenimiento', 'Techo Verde'),\n",
    "(2, 'Intensivo', 'Techo verde con mayor profundidad de sustrato', 'Techo Verde'),\n",
    "(3, 'Sistema modular', 'Jardín vertical conformado por módulos independientes', 'Jardín Vertical');\n",
    "\n",
    "-- Tabla: componentes\n",
    "CREATE TABLE componentes (\n",
    "    id INT PRIMARY KEY,\n",
    "    nombre VARCHAR(100),\n",
    "    funcion TEXT,\n",
    "    aplica_a VARCHAR(50)\n",
    ");\n",
    "\n",
    "INSERT INTO componentes (id, nombre, funcion, aplica_a) VALUES\n",
    "(1, 'Membrana impermeabilizante', 'Evita filtraciones de agua', 'Ambos'),\n",
    "(2, 'Capa de drenaje', 'Permite evacuar el exceso de agua', 'Techo Verde'),\n",
    "(3, 'Sistema de riego', 'Proporciona agua a las plantas', 'Ambos');\n",
    "\n",
    "-- Tabla: requisitos\n",
    "CREATE TABLE requisitos (\n",
    "    id INT PRIMARY KEY,\n",
    "    tema VARCHAR(100),\n",
    "    detalle TEXT,\n",
    "    tipo_requisito VARCHAR(50)\n",
    ");\n",
    "\n",
    "INSERT INTO requisitos (id, tema, detalle, tipo_requisito) VALUES\n",
    "(1, 'Carga estructural', 'La estructura debe soportar el peso del sistema verde.', 'Estructural'),\n",
    "(2, 'Acceso y mantenimiento', 'Debe existir un acceso seguro para mantenimiento.', 'Operativo'),\n",
    "(3, 'Evacuación de aguas', 'Debe garantizarse el drenaje y control de escorrentía.', 'Hidráulico');\n",
    "\n",
    "-- Tabla: beneficios\n",
    "CREATE TABLE beneficios (\n",
    "    id INT PRIMARY KEY,\n",
    "    tipo VARCHAR(50),\n",
    "    descripcion TEXT\n",
    ");\n",
    "\n",
    "INSERT INTO beneficios (id, tipo, descripcion) VALUES\n",
    "(1, 'Ambiental', 'Reducción del efecto isla de calor y mejora de calidad del aire.'),\n",
    "(2, 'Económico', 'Disminución del consumo energético por aislamiento térmico.'),\n",
    "(3, 'Social', 'Contribuye al bienestar y mejora el paisaje urbano.');\n",
    "\n",
    "-- Tabla: normativas\n",
    "CREATE TABLE normativas (\n",
    "    id INT PRIMARY KEY,\n",
    "    codigo VARCHAR(50),\n",
    "    descripcion TEXT,\n",
    "    aplica_a VARCHAR(100)\n",
    ");\n",
    "\n",
    "INSERT INTO normativas (id, codigo, descripcion, aplica_a) VALUES\n",
    "(1, 'NSR-10', 'Norma Colombiana de Construcción Sismo Resistente', 'Estructura soporte'),\n",
    "(2, 'RAS 2000', 'Reglamento Técnico del Sector de Agua Potable y Saneamiento Básico', 'Sistemas de drenaje');"
   ]
  },
  {
   "cell_type": "markdown",
   "id": "cffd2d2f",
   "metadata": {},
   "source": []
  },
  {
   "cell_type": "code",
   "execution_count": 12,
   "id": "2a3f3316",
   "metadata": {
    "vscode": {
     "languageId": "sql"
    }
   },
   "outputs": [
    {
     "ename": "SyntaxError",
     "evalue": "invalid syntax (428258183.py, line 1)",
     "output_type": "error",
     "traceback": [
      "  \u001b[36mCell\u001b[39m\u001b[36m \u001b[39m\u001b[32mIn[12]\u001b[39m\u001b[32m, line 1\u001b[39m\n\u001b[31m    \u001b[39m\u001b[31mSELECT * FROM secciones;\u001b[39m\n                  ^\n\u001b[31mSyntaxError\u001b[39m\u001b[31m:\u001b[39m invalid syntax\n"
     ]
    }
   ],
   "source": [
    "SELECT * FROM secciones;"
   ]
  },
  {
   "cell_type": "code",
   "execution_count": null,
   "id": "a94504f2",
   "metadata": {
    "vscode": {
     "languageId": "sql"
    }
   },
   "outputs": [],
   "source": []
  }
 ],
 "metadata": {
  "kernelspec": {
   "display_name": "Python 3",
   "language": "python",
   "name": "python3"
  },
  "language_info": {
   "codemirror_mode": {
    "name": "ipython",
    "version": 3
   },
   "file_extension": ".py",
   "mimetype": "text/x-python",
   "name": "python",
   "nbconvert_exporter": "python",
   "pygments_lexer": "ipython3",
   "version": "3.13.5"
  }
 },
 "nbformat": 4,
 "nbformat_minor": 5
}
